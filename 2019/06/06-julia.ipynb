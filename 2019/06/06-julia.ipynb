{
 "cells": [
  {
   "cell_type": "code",
   "execution_count": 10,
   "metadata": {
    "collapsed": false
   },
   "outputs": [
   ],
   "source": [
    "function readInput(infile = \"input06.dat\")\n",
    "    orbits = open(infile) do file\n",
    "        readlines(file)\n",
    "    end\n",
    "end\n",
    "orbitsString = readInput();"
   ]
  },
  {
   "cell_type": "code",
   "execution_count": 11,
   "metadata": {
    "collapsed": false
   },
   "outputs": [
    {
     "ename": "ErrorException",
     "evalue": "invalid redefinition of constant Node",
     "output_type": "error",
     "traceback": [
      "invalid redefinition of constant Node",
      "",
      "Stacktrace:",
      " [1] top-level scope at /ext/julia/depot/packages/IJulia/F1GUo/src/kernel.jl:52"
     ]
    }
   ],
   "source": [
    "struct Node\n",
    "    label::String\n",
    "    children::Array{Node}\n",
    "end"
   ]
  },
  {
   "cell_type": "code",
   "execution_count": 33,
   "metadata": {
    "collapsed": false
   },
   "outputs": [
    {
     "data": {
      "text/plain": [
       "parseLine (generic function with 1 method)"
      ]
     },
     "execution_count": 33,
     "metadata": {
     },
     "output_type": "execute_result"
    }
   ],
   "source": [
    "function parseLine(st)\n",
    "    label, child = split(st, ')')\n",
    "    return (Symbol(label), Symbol(child))\n",
    "end"
   ]
  },
  {
   "cell_type": "code",
   "execution_count": 34,
   "metadata": {
    "collapsed": false
   },
   "outputs": [
    {
     "data": {
      "text/plain": [
       "makeTree (generic function with 1 method)"
      ]
     },
     "execution_count": 34,
     "metadata": {
     },
     "output_type": "execute_result"
    }
   ],
   "source": [
    "function makeTree(orbitsString)\n",
    "    result = Dict()\n",
    "    for line in orbitsString\n",
    "        label, child = parseLine(line)\n",
    "        if label in keys(result)\n",
    "            result[label] = append!(result[label], child)\n",
    "        else\n",
    "            result[label] = [child]\n",
    "        end\n",
    "    end\n",
    "    return result\n",
    "end"
   ]
  },
  {
   "cell_type": "code",
   "execution_count": 35,
   "metadata": {
    "collapsed": false
   },
   "outputs": [
    {
     "ename": "MethodError",
     "evalue": "MethodError: no method matching length(::Symbol)\nClosest candidates are:\n  length(!Matched::Core.SimpleVector) at essentials.jl:593\n  length(!Matched::Base.MethodList) at reflection.jl:849\n  length(!Matched::Core.MethodTable) at reflection.jl:923\n  ...",
     "output_type": "error",
     "traceback": [
      "MethodError: no method matching length(::Symbol)\nClosest candidates are:\n  length(!Matched::Core.SimpleVector) at essentials.jl:593\n  length(!Matched::Base.MethodList) at reflection.jl:849\n  length(!Matched::Core.MethodTable) at reflection.jl:923\n  ...",
      "",
      "Stacktrace:",
      " [1] _append!(::Array{Symbol,1}, ::Base.HasLength, ::Symbol) at ./array.jl:921",
      " [2] append!(::Array{Symbol,1}, ::Symbol) at ./array.jl:915",
      " [3] makeTree(::Array{String,1}) at ./In[34]:6",
      " [4] top-level scope at In[35]:1"
     ]
    }
   ],
   "source": [
    "orbits = makeTree(orbitsString)"
   ]
  },
  {
   "cell_type": "code",
   "execution_count": 37,
   "metadata": {
    "collapsed": false
   },
   "outputs": [
    {
     "ename": "MethodError",
     "evalue": "MethodError: Cannot `convert` an object of type Array{Symbol,1} to an object of type Symbol\nClosest candidates are:\n  convert(::Type{T}, !Matched::T) where T at essentials.jl:168\n  Symbol(::Any...) at strings/basic.jl:206",
     "output_type": "error",
     "traceback": [
      "MethodError: Cannot `convert` an object of type Array{Symbol,1} to an object of type Symbol\nClosest candidates are:\n  convert(::Type{T}, !Matched::T) where T at essentials.jl:168\n  Symbol(::Any...) at strings/basic.jl:206",
      "",
      "Stacktrace:",
      " [1] setindex!(::Dict{Symbol,Symbol}, ::Array{Symbol,1}, ::Symbol) at ./dict.jl:380",
      " [2] top-level scope at In[37]:6"
     ]
    }
   ],
   "source": [
    "l, c = parseLine(orbitsString[1])\n",
    "res = Dict{Symbol, ArraySymbol}()\n",
    "if l in keys(res)\n",
    "    res[l] = append(res[l], c)\n",
    "else\n",
    "    res[l] = [c]\n",
    "end"
   ]
  },
  {
   "cell_type": "markdown",
   "metadata": {
    "collapsed": false
   },
   "source": [
    "# "
   ]
  },
  {
   "cell_type": "code",
   "execution_count": 0,
   "metadata": {
    "collapsed": false
   },
   "outputs": [
   ],
   "source": [
   ]
  },
  {
   "cell_type": "code",
   "execution_count": 0,
   "metadata": {
    "collapsed": false
   },
   "outputs": [
   ],
   "source": [
   ]
  }
 ],
 "metadata": {
  "kernelspec": {
   "display_name": "Julia 1.3.1",
   "env": {
    "JULIA_DEPOT_PATH": "/home/user/.julia/:/ext/julia/depot/",
    "JULIA_PROJECT": "/home/user/.julia/environment/v1.3"
   },
   "language": "julia",
   "metadata": {
    "cocalc": {
     "description": "The Julia Programming Language",
     "priority": 10,
     "url": "https://julialang.org/"
    }
   },
   "name": "julia-1.3"
  },
  "language_info": {
   "file_extension": ".jl",
   "mimetype": "application/julia",
   "name": "julia",
   "version": "1.3.1"
  }
 },
 "nbformat": 4,
 "nbformat_minor": 0
}
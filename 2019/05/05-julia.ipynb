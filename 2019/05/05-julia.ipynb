{
 "cells": [
  {
   "cell_type": "code",
   "execution_count": 12,
   "metadata": {
    "collapsed": false
   },
   "outputs": [
    {
     "data": {
      "text/plain": [
       "runInt (generic function with 2 methods)"
      ]
     },
     "execution_count": 12,
     "metadata": {
     },
     "output_type": "execute_result"
    }
   ],
   "source": [
    "function runInt!(prog)\n",
    "    pc = 1\n",
    "    \n",
    "    function update(pos, value) # pos >= 1 and pos <= length(prog)\n",
    "        prog[pos] = value\n",
    "    end\n",
    "    \n",
    "    function fetch(pos) # pos >= 1 and pos <= length(prog)\n",
    "        return prog[pos]\n",
    "    end\n",
    "    \n",
    "    function decode_mode(m)\n",
    "        if m == 1\n",
    "            return :immediate\n",
    "        else # position\n",
    "            return :position\n",
    "        end\n",
    "    end\n",
    "    \n",
    "    function get_data(start_address, modes) # modes is an array of symbols\n",
    "        data_arr = []\n",
    "        num_params = length(modes)\n",
    "        for i in 1:num_params\n",
    "            if modes[i] == :immediate\n",
    "                append!(data_arr, prog[start_address + i - 1])\n",
    "            elseif modes[i] == :position || modes[i] == nothing\n",
    "                pos = prog[start_address + i - 1]\n",
    "                append!(data_arr, prog[pos + 1]) # opcode is in base_addr\n",
    "            end\n",
    "        end\n",
    "        return data_arr\n",
    "    end\n",
    "    \n",
    "    function exec_opcode(pc_address) # don't need to increment it\n",
    "        instruction = fetch(pc_address)\n",
    "        opcode = mod(instruction, 100)\n",
    "        modes_char = div(instruction, 100)\n",
    "        modes = [decode_mode(m) for m in reverse(modes_char)]\n",
    "        \n",
    "        num_params = 0\n",
    "        if opcode <= 2\n",
    "            num_params = 3\n",
    "        elseif opcode <= 4\n",
    "            num_params = 2\n",
    "        end\n",
    "        \n",
    "        diff = num_params - length(modes)\n",
    "        modes = [modes, fill(0, diff)]\n",
    "        \n",
    "        data = get_data(pc_address + 1, num_params, modes)\n",
    "        \n",
    "        if opcode <= 2\n",
    "            # add/mul p1 to p2 and store in p3\n",
    "            if opcode == 1 \n",
    "                f = + \n",
    "            else \n",
    "                f = * \n",
    "            end\n",
    "            update(data[3], f(data[1], data[2]))\n",
    "        elseif opcode == 3\n",
    "            # get input, store in p1\n",
    "            update(data[1], parse(Int, chomp(readline())))\n",
    "        elseif opcode == 4\n",
    "            # print value stored in p1\n",
    "            println(\"Pos \", data[1], \": \", fetch(data[1]))\n",
    "        end\n",
    "    end\n",
    "        \n",
    "    while prog[pc] != 99\n",
    "        exec_opcode(pc)\n",
    "    end\n",
    "    println(\"Done. Return value is \", prog[1])\n",
    "    return prog[1]\n",
    "end\n",
    "\n",
    "function runInt(prog, a, b)\n",
    "    prog[2] = a\n",
    "    prog[3] = b\n",
    "    prog_copy = prog[:]\n",
    "    return runInt(prog_copy)\n",
    "end\n",
    "\n",
    "function runInt(prog)\n",
    "    prog_copy = prog[:]\n",
    "    return runInt!(prog_copy)\n",
    "end"
   ]
  },
  {
   "cell_type": "code",
   "execution_count": 7,
   "metadata": {
    "cocalc": {
     "outputs": {
      "0": {
       "name": "input",
       "opts": {
        "password": false,
        "prompt": "stdin> "
       },
       "output_type": "stream",
       "value": "8008"
      }
     }
    },
    "collapsed": false
   },
   "outputs": [
    {
     "name": "stdout",
     "output_type": "stream",
     "text": "stdin>  8008"
    },
    {
     "name": "stdout",
     "output_type": "stream",
     "text": [
      "Pos 0: 8008\n",
      "Done. Return value is 8008\n"
     ]
    },
    {
     "name": "stdout",
     "output_type": "stream",
     "text": [
      "8008"
     ]
    }
   ],
   "source": [
    "program = \"3,0,4,0,99\"\n",
    "program = [parse(Int, x) for x in split(program, ',')]\n",
    "runInt!(program)"
   ]
  },
  {
   "cell_type": "code",
   "execution_count": 8,
   "metadata": {
    "collapsed": false
   },
   "outputs": [
    {
     "ename": "SystemError",
     "evalue": "SystemError: opening file \"input2.dat\": No such file or directory",
     "output_type": "error",
     "traceback": [
      "SystemError: opening file \"input2.dat\": No such file or directory",
      "",
      "Stacktrace:",
      " [1] #systemerror#44(::Nothing, ::typeof(systemerror), ::String, ::Bool) at ./error.jl:134",
      " [2] systemerror at ./error.jl:134 [inlined]",
      " [3] #open#512(::Nothing, ::Nothing, ::Nothing, ::Nothing, ::Nothing, ::typeof(open), ::String) at ./iostream.jl:254",
      " [4] open at ./iostream.jl:246 [inlined]",
      " [5] #open#271(::Base.Iterators.Pairs{Union{},Union{},Tuple{},NamedTuple{(),Tuple{}}}, ::typeof(open), ::var\"#11#13\", ::String) at ./io.jl:296",
      " [6] open(::Function, ::String) at ./io.jl:296",
      " [7] top-level scope at In[8]:1"
     ]
    }
   ],
   "source": [
    "proggie = open(\"input5.dat\") do file\n",
    "    input2 = read(file, String)\n",
    "    [parse(Int, x) for x in split(input2, ',')]\n",
    "end;\n",
    "\n",
    "instrux = [(a,b) for a in 0:99 for b in 0:99];"
   ]
  },
  {
   "cell_type": "code",
   "execution_count": 0,
   "metadata": {
    "collapsed": false
   },
   "outputs": [
   ],
   "source": [
    "function part2(prog)\n",
    "    i = 0\n",
    "    prog_copy = prog[:]\n",
    "    for (a,b) in instrux\n",
    "        x = runInt(prog_copy, a, b)\n",
    "        if x == 19690720\n",
    "            return 100 * a + b\n",
    "        end\n",
    "        i += 1\n",
    "        println(i)\n",
    "    end\n",
    "    return 0\n",
    "end"
   ]
  },
  {
   "cell_type": "code",
   "execution_count": 0,
   "metadata": {
    "collapsed": false
   },
   "outputs": [
   ],
   "source": [
    "part2(proggie)\n"
   ]
  },
  {
   "cell_type": "code",
   "execution_count": 0,
   "metadata": {
    "collapsed": false
   },
   "outputs": [
   ],
   "source": [
   ]
  },
  {
   "cell_type": "code",
   "execution_count": 0,
   "metadata": {
    "collapsed": false
   },
   "outputs": [
   ],
   "source": [
    "for (a, b) in instrux\n",
    "    proggie_copy = proggie\n",
    "    pc = 1\n",
    "    println(\"Trying \", a, \" and \", b)\n",
    "#     proggie_copy[2] = 64\n",
    "#     proggie_copy[3] = 72\n",
    "    while proggie_copy[pc] != 99\n",
    "        println(\"Performing \", opcode[proggie_copy[pc]], \" on \", proggie_copy[pc+1], \" \", proggie_copy[pc+2])\n",
    "        proggie_copy[proggie_copy[pc+3] + 1] = \n",
    "            opcode[proggie_copy[pc]](\n",
    "                proggie_copy[proggie_copy[pc+1]+1], proggie_copy[proggie_copy[pc+2]+1]\n",
    "            )\n",
    "        pc += 4\n",
    "    end\n",
    "    if proggie_copy[1] == 19690720\n",
    "        println(\"Success! with a = \", a, \"b = \", b)\n",
    "        break\n",
    "    end\n",
    "end\n",
    "a* 10 +  b"
   ]
  },
  {
   "cell_type": "code",
   "execution_count": 0,
   "metadata": {
    "collapsed": false
   },
   "outputs": [
   ],
   "source": [
    "A = reshape([12, 5, 3, -16, -1, 1, 2, 0, 1, 7, 4, 0, 0, -20, 3, 16], 4, 4)"
   ]
  },
  {
   "cell_type": "code",
   "execution_count": 0,
   "metadata": {
    "collapsed": false
   },
   "outputs": [
   ],
   "source": [
    "A"
   ]
  },
  {
   "cell_type": "code",
   "execution_count": 0,
   "metadata": {
    "collapsed": false
   },
   "outputs": [
   ],
   "source": [
    "A.eigenvalues()"
   ]
  },
  {
   "cell_type": "code",
   "execution_count": 0,
   "metadata": {
    "collapsed": false
   },
   "outputs": [
   ],
   "source": [
    "?eigenvalue"
   ]
  },
  {
   "cell_type": "code",
   "execution_count": 0,
   "metadata": {
    "collapsed": false
   },
   "outputs": [
   ],
   "source": [
   ]
  }
 ],
 "metadata": {
  "kernelspec": {
   "display_name": "Julia 1.3.1",
   "env": {
    "JULIA_DEPOT_PATH": "/home/user/.julia/:/ext/julia/depot/",
    "JULIA_PROJECT": "/home/user/.julia/environment/v1.3"
   },
   "language": "julia",
   "metadata": {
    "cocalc": {
     "description": "The Julia Programming Language",
     "priority": 10,
     "url": "https://julialang.org/"
    }
   },
   "name": "julia-1.3"
  },
  "language_info": {
   "file_extension": ".jl",
   "mimetype": "application/julia",
   "name": "julia",
   "version": "1.3.1"
  }
 },
 "nbformat": 4,
 "nbformat_minor": 0
}
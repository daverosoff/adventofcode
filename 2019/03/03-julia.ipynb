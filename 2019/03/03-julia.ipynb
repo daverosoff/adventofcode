{
 "cells": [
  {
   "cell_type": "code",
   "execution_count": 67,
   "metadata": {
    "collapsed": false
   },
   "outputs": [
    {
     "data": {
      "text/plain": [
       "parseWire (generic function with 1 method)"
      ]
     },
     "execution_count": 67,
     "metadata": {
     },
     "output_type": "execute_result"
    }
   ],
   "source": [
    "dirs = Dict('R' => Dict(:dx => 1, :dy => 0),\n",
    "            'L' => Dict(:dx => -1, :dy => 0),\n",
    "            'U' => Dict(:dx => 0, :dy => 1),\n",
    "            'D' => Dict(:dx => 0, :dy => -1))\n",
    "\n",
    "function parseDir(st)\n",
    "    return st[1], parse(Int, st[2:end])\n",
    "end\n",
    "\n",
    "function visit((dir, dist)::Tuple{Char, Int64}, x::Int64, y::Int64, visited::Array{Tuple{Int64, Int64}})\n",
    "    dx = dirs[dir][:dx]\n",
    "    dy = dirs[dir][:dy]\n",
    "    for t in 1:dist\n",
    "        push!(visited, (x + dx, y + dy)::Tuple{Int64,Int64})\n",
    "        x += dx\n",
    "        y += dy\n",
    "    end\n",
    "    visited\n",
    "end        \n",
    "\n",
    "function parseWire(input_st)\n",
    "    input_li = [parseDir(st) for st in split(input_st, ',')]\n",
    "    wire = [(0,0)]\n",
    "    for inp in input_li\n",
    "        x, y = wire[end][1], wire[end][2]\n",
    "        wire = visit(inp, x, y, wire)\n",
    "    end\n",
    "    wire[2:end]\n",
    "end"
   ]
  },
  {
   "cell_type": "code",
   "execution_count": 97,
   "metadata": {
    "collapsed": false
   },
   "outputs": [
   ],
   "source": [
    "wire1, wire2 = open(\"input3.txt\") do file\n",
    "    x = readlines(file)\n",
    "    map(parseWire, x)\n",
    "end;"
   ]
  },
  {
   "cell_type": "code",
   "execution_count": 101,
   "metadata": {
    "collapsed": false
   },
   "outputs": [
    {
     "name": "stdout",
     "output_type": "stream",
     "text": [
      "  0.118042 seconds (27 allocations: 10.785 MiB, 58.51% gc time)\n",
      "  0.060627 seconds (64.65 k allocations: 3.267 MiB)\n",
      " "
     ]
    },
    {
     "name": "stdout",
     "output_type": "stream",
     "text": [
      " 0.132139 seconds (116.24 k allocations: 5.775 MiB)\n"
     ]
    },
    {
     "data": {
      "text/plain": [
       "(731, 5672)"
      ]
     },
     "execution_count": 101,
     "metadata": {
     },
     "output_type": "execute_result"
    }
   ],
   "source": [
    "@time intersections = intersect(wire1, wire2)\n",
    "function taxicab((x,y))\n",
    "    abs(x) + abs(y)\n",
    "end\n",
    "@time part1 = minimum(taxicab, intersections)\n",
    "function sigdelay((x,y))\n",
    "    findfirst(t -> t == (x,y), wire1) + findfirst(t -> t == (x,y), wire2)\n",
    "end\n",
    "@time part2 = minimum(sigdelay, intersections)\n",
    "part1, part2"
   ]
  },
  {
   "cell_type": "code",
   "execution_count": 0,
   "metadata": {
    "collapsed": false
   },
   "outputs": [
   ],
   "source": [
   ]
  }
 ],
 "metadata": {
  "kernelspec": {
   "display_name": "Julia 1.3.1",
   "env": {
    "JULIA_DEPOT_PATH": "/home/user/.julia/:/ext/julia/depot/",
    "JULIA_PROJECT": "/home/user/.julia/environment/v1.3"
   },
   "language": "julia",
   "metadata": {
    "cocalc": {
     "description": "The Julia Programming Language",
     "priority": 10,
     "url": "https://julialang.org/"
    }
   },
   "name": "julia-1.3"
  },
  "language_info": {
   "file_extension": ".jl",
   "mimetype": "application/julia",
   "name": "julia",
   "version": "1.3.1"
  }
 },
 "nbformat": 4,
 "nbformat_minor": 0
}
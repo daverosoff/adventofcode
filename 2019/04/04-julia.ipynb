{
 "cells": [
  {
   "cell_type": "code",
   "execution_count": 1,
   "metadata": {
    "collapsed": false
   },
   "outputs": [
    {
     "data": {
      "text/plain": [
       "231832:767346"
      ]
     },
     "execution_count": 1,
     "metadata": {
     },
     "output_type": "execute_result"
    }
   ],
   "source": [
    "a = 111111\n",
    "b = 223450\n",
    "c = 123789\n",
    "input4 = 231832:767346"
   ]
  },
  {
   "cell_type": "code",
   "execution_count": 35,
   "metadata": {
    "collapsed": false
   },
   "outputs": [
    {
     "data": {
      "text/plain": [
       "part2_ck (generic function with 1 method)"
      ]
     },
     "execution_count": 35,
     "metadata": {
     },
     "output_type": "execute_result"
    }
   ],
   "source": [
    "function digitize(num)\n",
    "    digitlist = []\n",
    "    while num > 0\n",
    "        append!(digitlist, num % 10)\n",
    "        num ÷= 10\n",
    "    end\n",
    "    reverse!(digitlist)\n",
    "end\n",
    "        \n",
    "function isIncreasing(password)\n",
    "    isIncreasing(digitize(password))\n",
    "end\n",
    "\n",
    "function isIncreasing(sequence)\n",
    "    if length(sequence) <= 1\n",
    "        return true\n",
    "    elseif sequence[1] <= sequence[2]\n",
    "        return isIncreasing(sequence[2:end])\n",
    "    else \n",
    "        return false\n",
    "    end\n",
    "end\n",
    "\n",
    "function hasDouble(password)\n",
    "    hasDouble(digitize(password))\n",
    "end\n",
    "\n",
    "function hasDouble(password, flag)\n",
    "    hasDouble(digitize(password), flag)\n",
    "end\n",
    "\n",
    "function hasDouble(sequence)\n",
    "    #x = [(sequence[i] == sequence[i+1]) for i in 1:(length(sequence) - 1)]\n",
    "    #length(sequence) > 1 && any(x)\n",
    "    any(sequence .== circshift(sequence, 1))\n",
    "    # any(x)\n",
    "end\n",
    "\n",
    "function hasDouble(sequence, flag)\n",
    "    x = sequence\n",
    "    ell = length(x)\n",
    "    function interior_ck(i)\n",
    "        (x[i-1] != x[i]) && (x[i] == x[i+1])  && (x[i+1] != x[i+2])\n",
    "    end\n",
    "    function front_ck()\n",
    "        x[1] == x[2] && x[2] != x[3]\n",
    "    end\n",
    "    function back_ck()\n",
    "        x[end-2] != x[end-1] && x[end-1] == x[end]\n",
    "    end\n",
    "    front_ck() || back_ck() || any(map(interior_ck, 2:ell-2))\n",
    "end\n",
    "\n",
    "function part1_ck(password)\n",
    "    dig = digitize(password)\n",
    "    hasDouble(dig) && isIncreasing(dig)\n",
    "end\n",
    "\n",
    "function part2_ck(password)\n",
    "    dig = digitize(password)\n",
    "    hasDouble(dig) && hasDouble(dig, :flag) && isIncreasing(dig)\n",
    "end"
   ]
  },
  {
   "cell_type": "code",
   "execution_count": 41,
   "metadata": {
    "collapsed": false
   },
   "outputs": [
    {
     "name": "stdout",
     "output_type": "stream",
     "text": [
      "1330 876\n"
     ]
    }
   ],
   "source": [
    "println(count(t -> part1_ck(t), input4), \" \", count(t -> part2_ck(t), input4))"
   ]
  },
  {
   "cell_type": "code",
   "execution_count": 0,
   "metadata": {
    "collapsed": false
   },
   "outputs": [
   ],
   "source": [
   ]
  }
 ],
 "metadata": {
  "kernelspec": {
   "display_name": "Julia 1.4",
   "env": {
    "JULIA_DEPOT_PATH": "/home/user/.julia/:/ext/julia/depot/",
    "JULIA_PROJECT": "/home/user/.julia/environment/v1.4"
   },
   "language": "julia",
   "metadata": {
    "cocalc": {
     "description": "The Julia Programming Language",
     "priority": 10,
     "url": "https://julialang.org/"
    }
   },
   "name": "julia-1.4"
  },
  "language_info": {
   "file_extension": ".jl",
   "mimetype": "application/julia",
   "name": "julia",
   "version": "1.4.2"
  }
 },
 "nbformat": 4,
 "nbformat_minor": 4
}